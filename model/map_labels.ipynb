{
 "cells": [
  {
   "cell_type": "code",
   "execution_count": 1,
   "id": "6d3778a8",
   "metadata": {},
   "outputs": [],
   "source": [
    "import csv\n",
    "import logging\n",
    "\n",
    "logging.basicConfig(level=logging.INFO)"
   ]
  },
  {
   "cell_type": "code",
   "execution_count": 2,
   "id": "4988b2db",
   "metadata": {},
   "outputs": [
    {
     "name": "stderr",
     "output_type": "stream",
     "text": [
      "INFO:root:Read 83 labels.\n"
     ]
    }
   ],
   "source": [
    "with open(\"audio_labels.txt\") as csv_file:\n",
    "    csv_reader = csv.reader(csv_file, delimiter=';')\n",
    "    labels = next(csv_reader)\n",
    "\n",
    "logging.info(\"Read %s labels.\", len(labels))"
   ]
  },
  {
   "cell_type": "code",
   "execution_count": 3,
   "id": "d3700d5a",
   "metadata": {},
   "outputs": [
    {
     "name": "stderr",
     "output_type": "stream",
     "text": [
      "INFO:root:Read 83 mappings.\n"
     ]
    }
   ],
   "source": [
    "with open(\"species3_ml.csv\") as species_file:\n",
    "    species_reader = csv.reader(species_file)\n",
    "    species_header = next(species_reader)\n",
    "    species_list = list(species_reader)\n",
    "    species_list.append([\"00_background\", \"00_background\", \"\"])\n",
    "    \n",
    "species = {l[0]: l[1:] for l in species_list}\n",
    "logging.info(\"Read %s mappings.\", len(species))"
   ]
  },
  {
   "cell_type": "code",
   "execution_count": 4,
   "id": "2cb75886",
   "metadata": {},
   "outputs": [
    {
     "name": "stderr",
     "output_type": "stream",
     "text": [
      "INFO:root:Mapped labels: ['00_background', 'Turdus merula', 'Motacilla alba', 'Falco subbuteo', 'Anthus trivialis', 'Fringilla montifringilla', 'Parus caeruleus', 'Linaria cannabina', 'Fringilla coelebs', 'Dendrocopos major', 'Corvus monedula', 'Sylvia communis', 'Garrulus glandarius', 'Pica pica', 'Spinus spinus', 'Loxia curvirostra', 'Phylloscopus trochilus', 'Certhia brachydactyla', 'Sylvia borin', 'Phoenicurus phoenicurus', 'Hippolais icterina', 'Pyrrhula pyrrhula', 'Emberiza citrinella', 'Emberiza calandra', 'Muscicapa striata', 'Picus canus', 'Chloris chloris', 'Picus viridis', 'Accipiter gentilis', 'Tetrastes bonasia', 'Lophophanes cristatus', 'Phoenicurus ochruros', 'Passer domesticus', 'Prunella modularis', 'Columba oenas', 'Phasianus colchicus', 'Coccothraustes coccothraustes', 'Sylvia curruca', 'Sitta europaea', 'Dryobates minor', 'Parus major', 'Corvus corax', 'Cuculus canorus', 'Buteo buteo', 'Apus apus', 'Turdus viscivorus', 'Dendrocoptes medius', 'Sylvia atricapilla', 'Luscinia megarhynchos', 'Lanius collurio', 'Alopochen aegyptiaca', 'Oriolus oriolus', 'Corvus corone', 'Hirundo rustica', 'Columba palumbus', 'Erithacus rubecula', 'Milvus milvus', 'Aegithalos caudatus', 'Milvus migrans', 'Dryocopus martius', 'Turdus philomelos', 'Regulus ignicapilla', 'Accipiter nisus', 'Glaucidium passerinum', 'Sturnus vulgaris', 'Carduelis carduelis', 'Anas platyrhynchos', 'Parus palustris', 'Periparus ater', 'Ficedula hypoleuca', 'Streptopelia decaocto', 'Falco tinnunculus', 'Bubo bubo', 'Turdus pilaris', 'Certhia familiaris', 'Strix aluco', 'Phylloscopus sibilatrix', 'Asio otus', 'Poecile montanus', 'Pernis apivorus', 'Regulus regulus', 'Troglodytes troglodytes', 'Phylloscopus collybita']\n"
     ]
    }
   ],
   "source": [
    "lat_labels = [species[l][0] for l in labels]\n",
    "logging.info(\"Mapped labels: %s\", lat_labels)"
   ]
  },
  {
   "cell_type": "code",
   "execution_count": 5,
   "id": "4a04c815",
   "metadata": {},
   "outputs": [
    {
     "name": "stderr",
     "output_type": "stream",
     "text": [
      "INFO:root:Wrote csv file.\n"
     ]
    }
   ],
   "source": [
    "with open(\"latin_labels.txt\", \"w\") as csv_file:\n",
    "    latin_writer = csv.writer(csv_file, delimiter=';')\n",
    "    latin_writer.writerow(lat_labels)\n",
    "logging.info(\"Wrote csv file.\")"
   ]
  }
 ],
 "metadata": {
  "kernelspec": {
   "display_name": "Python 3 (ipykernel)",
   "language": "python",
   "name": "python3"
  },
  "language_info": {
   "codemirror_mode": {
    "name": "ipython",
    "version": 3
   },
   "file_extension": ".py",
   "mimetype": "text/x-python",
   "name": "python",
   "nbconvert_exporter": "python",
   "pygments_lexer": "ipython3",
   "version": "3.9.10"
  }
 },
 "nbformat": 4,
 "nbformat_minor": 5
}
